{
 "cells": [
  {
   "cell_type": "markdown",
   "metadata": {},
   "source": [
    "# This is for part one of the assignment"
   ]
  },
  {
   "cell_type": "code",
   "execution_count": null,
   "metadata": {},
   "outputs": [],
   "source": [
    "##Step 1: Use Beautiful soup to scrape the page of wikipedia:\n",
    "\n",
    "#Use requests to get the html docs of the page through html get requests:\n",
    "website_link = \"https://en.wikipedia.org/wiki/List_of_postal_codes_of_Canada:_M\"\n",
    "import requests\n",
    "website_request = requests.get(website_link)\n",
    "\n",
    "#Use the BeautifulSoup python library to scrape the html table in the wikipedia page\n",
    "from bs4 import BeautifulSoup\n",
    "soup = BeautifulSoup(website_request.text, \"html.parser\")\n",
    "website_table = soup.find_all('table', class_=\"wikitable sortable\")[0]\n",
    "\n",
    "#Convert the html code text into pandas DataFrame through read_html function\n",
    "import pandas as pd\n",
    "website_df = pd.read_html(str(website_table), header=0)[0]\n",
    "website_df = website_df.loc[website_df['Borough'] != \"Not assigned\"]\n",
    "\n",
    "#Cascade the row with the Neighbourhood column contains Not assigned\n",
    "for index, series in website_df.iterrows():\n",
    "    if series['Neighbourhood'] == 'Not assigned':\n",
    "        website_df.loc[index, 'Neighbourhood'] = series['Borough']\n",
    "\n",
    "#For Borough with multiple Neighbourhoods, concatenate them with comma as separator.\n",
    "website_df.groupby(['Postcode', 'Borough'])['Neighbourhood'].apply(' ,'.join)"
   ]
  },
  {
   "cell_type": "markdown",
   "metadata": {},
   "source": [
    "# Part 2: Merge the position data with the dataframe"
   ]
  },
  {
   "cell_type": "code",
   "execution_count": null,
   "metadata": {},
   "outputs": [],
   "source": [
    "#Get the csv file for the locations and concatenate it with the dataframe:\n",
    "location_df = pd.read_csv(\"Geospatial_Coordinates.csv\").rename({'Postal Code': 'Postcode'}, axis=1)\n",
    "\n",
    "#Merge the dataframes:\n",
    "website_df.merge(location_df, how='left', on='Postcode')"
   ]
  },
  {
   "cell_type": "code",
   "execution_count": null,
   "metadata": {},
   "outputs": [],
   "source": [
    "website_df"
   ]
  },
  {
   "cell_type": "code",
   "execution_count": null,
   "metadata": {},
   "outputs": [],
   "source": []
  }
 ],
 "metadata": {
  "kernelspec": {
   "display_name": "Python 3",
   "language": "python",
   "name": "python3"
  },
  "language_info": {
   "codemirror_mode": {
    "name": "ipython",
    "version": 3
   },
   "file_extension": ".py",
   "mimetype": "text/x-python",
   "name": "python",
   "nbconvert_exporter": "python",
   "pygments_lexer": "ipython3",
   "version": "3.6.4"
  }
 },
 "nbformat": 4,
 "nbformat_minor": 2
}
